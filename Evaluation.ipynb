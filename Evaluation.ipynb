{
 "cells": [
  {
   "cell_type": "code",
   "execution_count": 12,
   "id": "b40424d5-9be4-414d-bc2c-036c9eaf3a49",
   "metadata": {},
   "outputs": [],
   "source": [
    "YOUR_NAME = \"Aleks\" "
   ]
  },
  {
   "cell_type": "code",
   "execution_count": 1,
   "id": "9b2d7c3c-71ba-42d5-9017-12ec81346a90",
   "metadata": {},
   "outputs": [],
   "source": [
    "# https://keras.io/examples/vision/mnist_convnet/\n",
    "# https://www.kaggle.com/code/shivanisheth2911/lstm-keras-on-mnist"
   ]
  },
  {
   "cell_type": "code",
   "execution_count": 2,
   "id": "3ce2cb26-94a3-4676-b0e3-8b2819babce4",
   "metadata": {},
   "outputs": [],
   "source": [
    "import keras\n",
    "from keras import layers\n",
    "import time\n",
    "import pandas as pd\n",
    "import matplotlib.pyplot as plt\n",
    "import numpy as np\n",
    "from keras.models import Sequential\n",
    "from keras.layers import Dense, SimpleRNN, LSTM"
   ]
  },
  {
   "cell_type": "markdown",
   "id": "866f63f3-dd70-4cac-ad48-80a8c8ce1468",
   "metadata": {},
   "source": [
    "## Dataset"
   ]
  },
  {
   "cell_type": "code",
   "execution_count": 3,
   "id": "f1f6169c-0404-4049-b103-777d80aa01a2",
   "metadata": {},
   "outputs": [],
   "source": [
    "input_shape = (28, 28, 1)\n",
    "num_classes = 10"
   ]
  },
  {
   "cell_type": "code",
   "execution_count": 4,
   "id": "fcf73ae9-7db5-4ffd-b4fb-b29005d6a805",
   "metadata": {},
   "outputs": [
    {
     "name": "stdout",
     "output_type": "stream",
     "text": [
      "x_train shape: (60000, 28, 28, 1)\n",
      "60000 train samples\n",
      "10000 test samples\n"
     ]
    }
   ],
   "source": [
    "# Dataset Size\n",
    "# Load the data and split it between train and test sets\n",
    "(x_train, y_train), (x_test, y_test) = keras.datasets.mnist.load_data()\n",
    "\n",
    "# Scale images to the [0, 1] range\n",
    "x_train = x_train.astype(\"float32\") / 255\n",
    "x_test = x_test.astype(\"float32\") / 255\n",
    "# Make sure images have shape (28, 28, 1)\n",
    "x_train = np.expand_dims(x_train, -1)\n",
    "x_test = np.expand_dims(x_test, -1)\n",
    "print(\"x_train shape:\", x_train.shape)\n",
    "print(x_train.shape[0], \"train samples\")\n",
    "print(x_test.shape[0], \"test samples\")\n",
    "\n",
    "\n",
    "# convert class vectors to binary class matrices\n",
    "y_train = keras.utils.to_categorical(y_train, num_classes)\n",
    "y_test = keras.utils.to_categorical(y_test, num_classes)"
   ]
  },
  {
   "cell_type": "markdown",
   "id": "e58f610a-9391-4177-8006-ee80e52d92fb",
   "metadata": {},
   "source": [
    "### Make Models"
   ]
  },
  {
   "cell_type": "code",
   "execution_count": 5,
   "id": "17f6a4ca-189d-433f-8964-aeb0c5cd61d7",
   "metadata": {},
   "outputs": [],
   "source": [
    "def make_cnn(input_shape, num_classes):\n",
    "    model = keras.Sequential(\n",
    "        [\n",
    "            keras.Input(shape=input_shape),\n",
    "            layers.Conv2D(32, kernel_size=(3, 3), activation=\"relu\"),\n",
    "            layers.MaxPooling2D(pool_size=(2, 2)),\n",
    "            layers.Conv2D(64, kernel_size=(3, 3), activation=\"relu\"),\n",
    "            layers.MaxPooling2D(pool_size=(2, 2)),\n",
    "            layers.Flatten(),\n",
    "            layers.Dropout(0.5),\n",
    "            layers.Dense(num_classes, activation=\"softmax\"),\n",
    "        ]\n",
    "    )\n",
    "\n",
    "    model.compile(loss=\"categorical_crossentropy\", optimizer=\"adam\", metrics=[\"accuracy\"])\n",
    "\n",
    "    return model"
   ]
  },
  {
   "cell_type": "code",
   "execution_count": 6,
   "id": "e0b435a8-ed66-40b4-8de6-09ae8aca0fef",
   "metadata": {},
   "outputs": [],
   "source": [
    "def make_fnn(input_shape, num_classes):\n",
    "    model = keras.Sequential(\n",
    "        [\n",
    "            keras.Input(shape=input_shape),\n",
    "            layers.Dense(num_classes, activation=\"relu\"),\n",
    "            layers.Dense(num_classes, activation=\"relu\"),\n",
    "            layers.Flatten(),\n",
    "            layers.Dropout(0.5),\n",
    "            layers.Dense(num_classes, activation=\"softmax\"),\n",
    "        ]\n",
    "    )\n",
    "\n",
    "    model.compile(loss=\"categorical_crossentropy\", optimizer=\"adam\", metrics=[\"accuracy\"])\n",
    "\n",
    "    return model"
   ]
  },
  {
   "cell_type": "code",
   "execution_count": 7,
   "id": "5626f7b3-adef-4d8c-850b-9c74e1b01490",
   "metadata": {},
   "outputs": [],
   "source": [
    "def make_rnn(input_shape, num_classes):\n",
    "    model = keras.Sequential(\n",
    "        [\n",
    "            SimpleRNN(128, return_sequences=False,\n",
    "                    input_shape=(input_shape[0], input_shape[1]),\n",
    "                    unroll=True),\n",
    "            layers.Dense(num_classes, activation=\"relu\"),\n",
    "            layers.Flatten(),\n",
    "            layers.Dropout(0.5),\n",
    "            layers.Dense(num_classes, activation=\"softmax\"),\n",
    "        ]\n",
    "    )\n",
    "\n",
    "    model.compile(loss=\"categorical_crossentropy\", optimizer=\"adam\", metrics=[\"accuracy\"])\n",
    "\n",
    "    return model"
   ]
  },
  {
   "cell_type": "markdown",
   "id": "ee84b21a-9e3d-41c1-9ab5-19cd469511f8",
   "metadata": {},
   "source": [
    "## Experiment"
   ]
  },
  {
   "cell_type": "code",
   "execution_count": 8,
   "id": "7d953cd7-7597-429e-90c9-dc5411061785",
   "metadata": {},
   "outputs": [],
   "source": [
    "def fit_and_validate(model_function, model_name, epochs, x_train, y_train, x_test, y_test, df, input_shape, num_classes):\n",
    "    model = model_function(input_shape, num_classes)\n",
    "    batch_size = 128\n",
    "\n",
    "    start_time = time.time()\n",
    "    model.fit(x_train, y_train, batch_size=batch_size, epochs=epochs, validation_split=0.1, verbose=0)\n",
    "    time_to_train = time.time() - start_time\n",
    "\n",
    "    score = model.evaluate(x_test, y_test, verbose=0)\n",
    "    print(\"Test loss:\", score[0])\n",
    "    print(\"Test accuracy:\", score[1])\n",
    "\n",
    "    start_time = time.time()\n",
    "    model.predict(x_test, verbose=0)\n",
    "    time_to_predict = time.time() - start_time\n",
    "    \n",
    "    start_time = time.time()\n",
    "    model.fit(x_train, y_train, batch_size=batch_size, epochs=epochs, validation_split=0.1, verbose=0)\n",
    "    time_to_retrain = time.time() - start_time\n",
    "\n",
    "    df.loc[len(df)] = [model_name, batch_size, epochs, len(x_train), time_to_train, time_to_retrain, time_to_predict, score[1], YOUR_NAME]\n",
    "    return df"
   ]
  },
  {
   "cell_type": "code",
   "execution_count": 9,
   "id": "b763d97f-e1d5-4350-a3b9-4d9090e27b8a",
   "metadata": {},
   "outputs": [],
   "source": [
    "# Action Space\n",
    "all_epochs = [1]\n",
    "all_models = {\n",
    "    \"RNN\": make_rnn,\n",
    "    \"FNN\": make_fnn,\n",
    "    \"CNN\": make_cnn\n",
    "}\n",
    "all_dataset_sizes = [i/100 for i in range(25, 105, 1)]"
   ]
  },
  {
   "cell_type": "code",
   "execution_count": 10,
   "id": "2fc92fc3-5666-4ce2-855d-b512b96ac7e1",
   "metadata": {},
   "outputs": [],
   "source": [
    "# Data Collection\n",
    "df = pd.DataFrame(columns=['model', 'batch_size', 'epochs', 'dataset_size', 'time_to_train', 'time_to_retrain', 'time_to_predict', 'accuracy', 'name'])"
   ]
  },
  {
   "cell_type": "code",
   "execution_count": 11,
   "id": "f7ba6f51-0bd3-47a4-a908-d51bd6f0f52c",
   "metadata": {},
   "outputs": [
    {
     "name": "stdout",
     "output_type": "stream",
     "text": [
      "0/10  1  RNN  0.25\n"
     ]
    },
    {
     "name": "stderr",
     "output_type": "stream",
     "text": [
      "C:\\Users\\ajrbe\\Documents\\Git\\deeplearning-performance-evaluation\\.venv\\Lib\\site-packages\\keras\\src\\layers\\rnn\\rnn.py:200: UserWarning: Do not pass an `input_shape`/`input_dim` argument to a layer. When using Sequential models, prefer using an `Input(shape)` object as the first layer in the model instead.\n",
      "  super().__init__(**kwargs)\n"
     ]
    },
    {
     "name": "stdout",
     "output_type": "stream",
     "text": [
      "Test loss: 1.1520148515701294\n",
      "Test accuracy: 0.7055000066757202\n",
      "0/10  1  FNN  0.25\n",
      "Test loss: 0.40625229477882385\n",
      "Test accuracy: 0.8894000053405762\n",
      "0/10  1  CNN  0.25\n",
      "Test loss: 0.22330652177333832\n",
      "Test accuracy: 0.9375\n",
      "0/10  1  RNN  0.26\n"
     ]
    },
    {
     "name": "stderr",
     "output_type": "stream",
     "text": [
      "C:\\Users\\ajrbe\\Documents\\Git\\deeplearning-performance-evaluation\\.venv\\Lib\\site-packages\\keras\\src\\layers\\rnn\\rnn.py:200: UserWarning: Do not pass an `input_shape`/`input_dim` argument to a layer. When using Sequential models, prefer using an `Input(shape)` object as the first layer in the model instead.\n",
      "  super().__init__(**kwargs)\n"
     ]
    },
    {
     "name": "stdout",
     "output_type": "stream",
     "text": [
      "Test loss: 1.168779969215393\n",
      "Test accuracy: 0.761900007724762\n",
      "0/10  1  FNN  0.26\n",
      "Test loss: 0.45029139518737793\n",
      "Test accuracy: 0.8795999884605408\n",
      "0/10  1  CNN  0.26\n",
      "Test loss: 0.24850089848041534\n",
      "Test accuracy: 0.9289000034332275\n",
      "0/10  1  RNN  0.27\n"
     ]
    },
    {
     "name": "stderr",
     "output_type": "stream",
     "text": [
      "C:\\Users\\ajrbe\\Documents\\Git\\deeplearning-performance-evaluation\\.venv\\Lib\\site-packages\\keras\\src\\layers\\rnn\\rnn.py:200: UserWarning: Do not pass an `input_shape`/`input_dim` argument to a layer. When using Sequential models, prefer using an `Input(shape)` object as the first layer in the model instead.\n",
      "  super().__init__(**kwargs)\n"
     ]
    },
    {
     "name": "stdout",
     "output_type": "stream",
     "text": [
      "Test loss: 1.060890793800354\n",
      "Test accuracy: 0.7738999724388123\n",
      "0/10  1  FNN  0.27\n",
      "Test loss: 0.3975954055786133\n",
      "Test accuracy: 0.8878999948501587\n",
      "0/10  1  CNN  0.27\n",
      "Test loss: 0.22877682745456696\n",
      "Test accuracy: 0.9358999729156494\n"
     ]
    },
    {
     "name": "stderr",
     "output_type": "stream",
     "text": [
      "\n",
      "KeyboardInterrupt\n",
      "\n"
     ]
    }
   ],
   "source": [
    "for i in range(10):\n",
    "    for epochs in all_epochs:\n",
    "        for dataset_size in all_dataset_sizes:\n",
    "            for model in all_models:\n",
    "                print(f\"{i}/10  {epochs}  {model}  {dataset_size}\")\n",
    "                size = int(len(x_train) * dataset_size)\n",
    "    \n",
    "                subset_x_train = x_train[:size]\n",
    "                subset_y_train = y_train[:size]\n",
    "                subset_x_test = x_test[:size]\n",
    "                subset_y_test = y_test[:size]\n",
    "                \n",
    "                df = fit_and_validate(all_models[model], model, epochs, subset_x_train, subset_y_train, subset_x_test, subset_y_test, df, input_shape, num_classes)\n",
    "                df.to_csv(f\"{YOUR_NAME}_results.csv\")"
   ]
  },
  {
   "cell_type": "code",
   "execution_count": null,
   "id": "3c4ec84b-33b5-49ea-af48-85c4b684926e",
   "metadata": {},
   "outputs": [],
   "source": [
    "df"
   ]
  },
  {
   "cell_type": "code",
   "execution_count": null,
   "id": "4d90d0f7-b7a9-448f-b6af-9994bdf8ec4c",
   "metadata": {},
   "outputs": [],
   "source": []
  }
 ],
 "metadata": {
  "kernelspec": {
   "display_name": "Python 3 (ipykernel)",
   "language": "python",
   "name": "python3"
  },
  "language_info": {
   "codemirror_mode": {
    "name": "ipython",
    "version": 3
   },
   "file_extension": ".py",
   "mimetype": "text/x-python",
   "name": "python",
   "nbconvert_exporter": "python",
   "pygments_lexer": "ipython3",
   "version": "3.12.6"
  }
 },
 "nbformat": 4,
 "nbformat_minor": 5
}
